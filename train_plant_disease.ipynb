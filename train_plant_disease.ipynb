{
  "cells": [
    {
      "cell_type": "code",
      "execution_count": null,
      "metadata": {
        "id": "1jycf-ZIy21F"
      },
      "outputs": [],
      "source": [
        "import tensorflow as tf\n",
        "import matplotlib.pyplot as plt\n",
        "import pandas as pd\n",
        "import seaborn as sns"
      ]
    },
    {
      "cell_type": "code",
      "execution_count": null,
      "metadata": {
        "colab": {
          "base_uri": "https://localhost:8080/"
        },
        "id": "z0ZFtmNs04sz",
        "outputId": "66fde691-bb30-4cad-d7b9-9471947498b8"
      },
      "outputs": [
        {
          "name": "stdout",
          "output_type": "stream",
          "text": [
            "['Grape___Black_rot', 'Strawberry___healthy', 'Pepper,_bell___healthy', 'Tomato___Tomato_mosaic_virus', 'Tomato___Target_Spot', 'Potato___Late_blight', 'Orange___Haunglongbing_(Citrus_greening)', 'Blueberry___healthy', 'Tomato___Late_blight', 'Peach___healthy', 'Potato___Early_blight', 'Corn_(maize)___healthy', 'Grape___Leaf_blight_(Isariopsis_Leaf_Spot)', 'Corn_(maize)___Common_rust_', 'Grape___healthy', 'Cherry_(including_sour)___Powdery_mildew', 'Tomato___Bacterial_spot', 'Tomato___Leaf_Mold', 'Grape___Esca_(Black_Measles)', 'Tomato___Early_blight', 'Raspberry___healthy', 'Apple___Cedar_apple_rust', 'Corn_(maize)___Northern_Leaf_Blight', 'Cherry_(including_sour)___healthy', 'Pepper,_bell___Bacterial_spot', 'Tomato___healthy', 'Apple___Apple_scab', 'Squash___Powdery_mildew', 'Tomato___Tomato_Yellow_Leaf_Curl_Virus', 'Peach___Bacterial_spot', 'Tomato___Septoria_leaf_spot', 'Tomato___Spider_mites Two-spotted_spider_mite', 'Potato___healthy', 'Apple___healthy', 'Apple___Black_rot', 'Soybean___healthy', 'Corn_(maize)___Cercospora_leaf_spot Gray_leaf_spot', 'Strawberry___Leaf_scorch']\n",
            "Unsupported file format: Grape___Black_rot\n",
            "Unsupported file format: Strawberry___healthy\n",
            "Unsupported file format: Pepper,_bell___healthy\n",
            "Unsupported file format: Tomato___Tomato_mosaic_virus\n",
            "Unsupported file format: Tomato___Target_Spot\n",
            "Unsupported file format: Potato___Late_blight\n",
            "Unsupported file format: Orange___Haunglongbing_(Citrus_greening)\n",
            "Unsupported file format: Blueberry___healthy\n",
            "Unsupported file format: Tomato___Late_blight\n",
            "Unsupported file format: Peach___healthy\n",
            "Unsupported file format: Potato___Early_blight\n",
            "Unsupported file format: Corn_(maize)___healthy\n",
            "Unsupported file format: Grape___Leaf_blight_(Isariopsis_Leaf_Spot)\n",
            "Unsupported file format: Corn_(maize)___Common_rust_\n",
            "Unsupported file format: Grape___healthy\n",
            "Unsupported file format: Cherry_(including_sour)___Powdery_mildew\n",
            "Unsupported file format: Tomato___Bacterial_spot\n",
            "Unsupported file format: Tomato___Leaf_Mold\n",
            "Unsupported file format: Grape___Esca_(Black_Measles)\n",
            "Unsupported file format: Tomato___Early_blight\n",
            "Unsupported file format: Raspberry___healthy\n",
            "Unsupported file format: Apple___Cedar_apple_rust\n",
            "Unsupported file format: Corn_(maize)___Northern_Leaf_Blight\n",
            "Unsupported file format: Cherry_(including_sour)___healthy\n",
            "Unsupported file format: Pepper,_bell___Bacterial_spot\n",
            "Unsupported file format: Tomato___healthy\n",
            "Unsupported file format: Apple___Apple_scab\n",
            "Unsupported file format: Squash___Powdery_mildew\n",
            "Unsupported file format: Tomato___Tomato_Yellow_Leaf_Curl_Virus\n",
            "Unsupported file format: Peach___Bacterial_spot\n",
            "Unsupported file format: Tomato___Septoria_leaf_spot\n",
            "Unsupported file format: Tomato___Spider_mites Two-spotted_spider_mite\n",
            "Unsupported file format: Potato___healthy\n",
            "Unsupported file format: Apple___healthy\n",
            "Unsupported file format: Apple___Black_rot\n",
            "Unsupported file format: Soybean___healthy\n",
            "Unsupported file format: Corn_(maize)___Cercospora_leaf_spot Gray_leaf_spot\n",
            "Unsupported file format: Strawberry___Leaf_scorch\n"
          ]
        }
      ],
      "source": [
        "import os\n",
        "\n",
        "   # Print the contents of the directory to check for images\n",
        "print(os.listdir('/content/drive/MyDrive/Dataset/train'))\n",
        "\n",
        "   # Check for supported image formats\n",
        "for filename in os.listdir('/content/drive/MyDrive/Dataset/train'):\n",
        "       if not filename.lower().endswith(('.bmp', '.gif', '.jpeg', '.jpg', '.png')):\n",
        "           print(f\"Unsupported file format: {filename}\")"
      ]
    },
    {
      "cell_type": "code",
      "execution_count": null,
      "metadata": {
        "colab": {
          "base_uri": "https://localhost:8080/",
          "height": 1000
        },
        "collapsed": true,
        "id": "gQN1rzEA1uy0",
        "outputId": "83941617-5559-4eec-f993-7d9bc193c2ee"
      },
      "outputs": [
        {
          "name": "stdout",
          "output_type": "stream",
          "text": [
            "['Grape___Black_rot', 'Strawberry___healthy', 'Pepper,_bell___healthy', 'Tomato___Tomato_mosaic_virus', 'Tomato___Target_Spot', 'Potato___Late_blight', 'Orange___Haunglongbing_(Citrus_greening)', 'Blueberry___healthy', 'Tomato___Late_blight', 'Peach___healthy', 'Potato___Early_blight', 'Corn_(maize)___healthy', 'Grape___Leaf_blight_(Isariopsis_Leaf_Spot)', 'Corn_(maize)___Common_rust_', 'Grape___healthy', 'Cherry_(including_sour)___Powdery_mildew', 'Tomato___Bacterial_spot', 'Tomato___Leaf_Mold', 'Grape___Esca_(Black_Measles)', 'Tomato___Early_blight', 'Raspberry___healthy', 'Apple___Cedar_apple_rust', 'Corn_(maize)___Northern_Leaf_Blight', 'Cherry_(including_sour)___healthy', 'Pepper,_bell___Bacterial_spot', 'Tomato___healthy', 'Apple___Apple_scab', 'Squash___Powdery_mildew', 'Tomato___Tomato_Yellow_Leaf_Curl_Virus', 'Peach___Bacterial_spot', 'Tomato___Septoria_leaf_spot', 'Tomato___Spider_mites Two-spotted_spider_mite', 'Potato___healthy', 'Apple___healthy', 'Apple___Black_rot', 'Soybean___healthy', 'Corn_(maize)___Cercospora_leaf_spot Gray_leaf_spot', 'Strawberry___Leaf_scorch']\n",
            "Grape___Black_rot\n",
            "Unsupported file format: Grape___Black_rot\n",
            "Strawberry___healthy\n",
            "Unsupported file format: Strawberry___healthy\n",
            "Pepper,_bell___healthy\n",
            "Unsupported file format: Pepper,_bell___healthy\n",
            "Tomato___Tomato_mosaic_virus\n",
            "Unsupported file format: Tomato___Tomato_mosaic_virus\n",
            "Tomato___Target_Spot\n",
            "Unsupported file format: Tomato___Target_Spot\n",
            "Potato___Late_blight\n",
            "Unsupported file format: Potato___Late_blight\n",
            "Orange___Haunglongbing_(Citrus_greening)\n",
            "Unsupported file format: Orange___Haunglongbing_(Citrus_greening)\n",
            "Blueberry___healthy\n",
            "Unsupported file format: Blueberry___healthy\n",
            "Tomato___Late_blight\n",
            "Unsupported file format: Tomato___Late_blight\n",
            "Peach___healthy\n",
            "Unsupported file format: Peach___healthy\n",
            "Potato___Early_blight\n",
            "Unsupported file format: Potato___Early_blight\n",
            "Corn_(maize)___healthy\n",
            "Unsupported file format: Corn_(maize)___healthy\n",
            "Grape___Leaf_blight_(Isariopsis_Leaf_Spot)\n",
            "Unsupported file format: Grape___Leaf_blight_(Isariopsis_Leaf_Spot)\n",
            "Corn_(maize)___Common_rust_\n",
            "Unsupported file format: Corn_(maize)___Common_rust_\n",
            "Grape___healthy\n",
            "Unsupported file format: Grape___healthy\n",
            "Cherry_(including_sour)___Powdery_mildew\n",
            "Unsupported file format: Cherry_(including_sour)___Powdery_mildew\n",
            "Tomato___Bacterial_spot\n",
            "Unsupported file format: Tomato___Bacterial_spot\n",
            "Tomato___Leaf_Mold\n",
            "Unsupported file format: Tomato___Leaf_Mold\n",
            "Grape___Esca_(Black_Measles)\n",
            "Unsupported file format: Grape___Esca_(Black_Measles)\n",
            "Tomato___Early_blight\n",
            "Unsupported file format: Tomato___Early_blight\n",
            "Raspberry___healthy\n",
            "Unsupported file format: Raspberry___healthy\n",
            "Apple___Cedar_apple_rust\n",
            "Unsupported file format: Apple___Cedar_apple_rust\n",
            "Corn_(maize)___Northern_Leaf_Blight\n",
            "Unsupported file format: Corn_(maize)___Northern_Leaf_Blight\n",
            "Cherry_(including_sour)___healthy\n",
            "Unsupported file format: Cherry_(including_sour)___healthy\n",
            "Pepper,_bell___Bacterial_spot\n",
            "Unsupported file format: Pepper,_bell___Bacterial_spot\n",
            "Tomato___healthy\n",
            "Unsupported file format: Tomato___healthy\n",
            "Apple___Apple_scab\n",
            "Unsupported file format: Apple___Apple_scab\n",
            "Squash___Powdery_mildew\n",
            "Unsupported file format: Squash___Powdery_mildew\n",
            "Tomato___Tomato_Yellow_Leaf_Curl_Virus\n",
            "Unsupported file format: Tomato___Tomato_Yellow_Leaf_Curl_Virus\n",
            "Peach___Bacterial_spot\n",
            "Unsupported file format: Peach___Bacterial_spot\n",
            "Tomato___Septoria_leaf_spot\n",
            "Unsupported file format: Tomato___Septoria_leaf_spot\n",
            "Tomato___Spider_mites Two-spotted_spider_mite\n",
            "Unsupported file format: Tomato___Spider_mites Two-spotted_spider_mite\n",
            "Potato___healthy\n",
            "Unsupported file format: Potato___healthy\n",
            "Apple___healthy\n",
            "Unsupported file format: Apple___healthy\n",
            "Apple___Black_rot\n",
            "Unsupported file format: Apple___Black_rot\n",
            "Soybean___healthy\n",
            "Unsupported file format: Soybean___healthy\n",
            "Corn_(maize)___Cercospora_leaf_spot Gray_leaf_spot\n",
            "Unsupported file format: Corn_(maize)___Cercospora_leaf_spot Gray_leaf_spot\n",
            "Strawberry___Leaf_scorch\n",
            "Unsupported file format: Strawberry___Leaf_scorch\n",
            "Found 0 files belonging to 38 classes.\n"
          ]
        },
        {
          "ename": "ValueError",
          "evalue": "No images found in directory /content/drive/MyDrive/Dataset/train. Allowed formats: ('.bmp', '.gif', '.jpeg', '.jpg', '.png')",
          "output_type": "error",
          "traceback": [
            "\u001b[0;31m---------------------------------------------------------------------------\u001b[0m",
            "\u001b[0;31mValueError\u001b[0m                                Traceback (most recent call last)",
            "\u001b[0;32m<ipython-input-14-219d3390b2f9>\u001b[0m in \u001b[0;36m<cell line: 0>\u001b[0;34m()\u001b[0m\n\u001b[1;32m     15\u001b[0m \u001b[0;31m# 2. Handle Subfolders (if present):\u001b[0m\u001b[0;34m\u001b[0m\u001b[0;34m\u001b[0m\u001b[0m\n\u001b[1;32m     16\u001b[0m \u001b[0;31m# If your images are in subfolders, use labels='inferred'\u001b[0m\u001b[0;34m\u001b[0m\u001b[0;34m\u001b[0m\u001b[0m\n\u001b[0;32m---> 17\u001b[0;31m training_set = tf.keras.utils.image_dataset_from_directory(\n\u001b[0m\u001b[1;32m     18\u001b[0m     \u001b[0;34m'/content/drive/MyDrive/Dataset/train'\u001b[0m\u001b[0;34m,\u001b[0m\u001b[0;34m\u001b[0m\u001b[0;34m\u001b[0m\u001b[0m\n\u001b[1;32m     19\u001b[0m     \u001b[0mlabels\u001b[0m\u001b[0;34m=\u001b[0m\u001b[0;34m'inferred'\u001b[0m\u001b[0;34m,\u001b[0m  \u001b[0;31m# Infer labels from subfolder names\u001b[0m\u001b[0;34m\u001b[0m\u001b[0;34m\u001b[0m\u001b[0m\n",
            "\u001b[0;32m/usr/local/lib/python3.11/dist-packages/keras/src/utils/image_dataset_utils.py\u001b[0m in \u001b[0;36mimage_dataset_from_directory\u001b[0;34m(directory, labels, label_mode, class_names, color_mode, batch_size, image_size, shuffle, seed, validation_split, subset, interpolation, follow_links, crop_to_aspect_ratio, pad_to_aspect_ratio, data_format, verbose)\u001b[0m\n\u001b[1;32m    319\u001b[0m         )\n\u001b[1;32m    320\u001b[0m         \u001b[0;32mif\u001b[0m \u001b[0;32mnot\u001b[0m \u001b[0mimage_paths\u001b[0m\u001b[0;34m:\u001b[0m\u001b[0;34m\u001b[0m\u001b[0;34m\u001b[0m\u001b[0m\n\u001b[0;32m--> 321\u001b[0;31m             raise ValueError(\n\u001b[0m\u001b[1;32m    322\u001b[0m                 \u001b[0;34mf\"No images found in directory {directory}. \"\u001b[0m\u001b[0;34m\u001b[0m\u001b[0;34m\u001b[0m\u001b[0m\n\u001b[1;32m    323\u001b[0m                 \u001b[0;34mf\"Allowed formats: {ALLOWLIST_FORMATS}\"\u001b[0m\u001b[0;34m\u001b[0m\u001b[0;34m\u001b[0m\u001b[0m\n",
            "\u001b[0;31mValueError\u001b[0m: No images found in directory /content/drive/MyDrive/Dataset/train. Allowed formats: ('.bmp', '.gif', '.jpeg', '.jpg', '.png')"
          ]
        }
      ],
      "source": [
        "import tensorflow as tf\n",
        "import matplotlib.pyplot as plt\n",
        "import pandas as pd\n",
        "import seaborn as sns\n",
        "import os\n",
        "\n",
        "# 1. Verify Directory Path and Image Formats:\n",
        "# Print the contents of the directory to check for images and their formats\n",
        "print(os.listdir('/content/drive/MyDrive/Dataset/train'))\n",
        "for filename in os.listdir('/content/drive/MyDrive/Dataset/train'):\n",
        "    print(filename)  # Print the full filename\n",
        "    if not filename.lower().endswith(('.bmp', '.gif', '.jpeg', '.jpg', '.png')):\n",
        "        print(f\"Unsupported file format: {filename}\")\n",
        "\n",
        "# 2. Handle Subfolders (if present):\n",
        "# If your images are in subfolders, use labels='inferred'\n",
        "training_set = tf.keras.utils.image_dataset_from_directory(\n",
        "    '/content/drive/MyDrive/Dataset/train',\n",
        "    labels='inferred',  # Infer labels from subfolder names\n",
        "    label_mode='int',\n",
        "    class_names=None,\n",
        "    color_mode=\"rgb\",\n",
        "    batch_size=32,\n",
        "    image_size=(128, 128),\n",
        "    shuffle=True, seed=None,\n",
        "    validation_split=None,\n",
        "    subset=None,\n",
        "    interpolation=\"bilinear\",\n",
        "    follow_links=False,\n",
        "    crop_to_aspect_ratio=False\n",
        ")"
      ]
    },
    {
      "cell_type": "code",
      "execution_count": null,
      "metadata": {
        "colab": {
          "base_uri": "https://localhost:8080/"
        },
        "id": "ZXzOyPJW2An-",
        "outputId": "f14ae1ef-0cee-43b5-8e77-2d6578ff57cb"
      },
      "outputs": [
        {
          "name": "stdout",
          "output_type": "stream",
          "text": [
            "Found 994 files belonging to 38 classes.\n"
          ]
        }
      ],
      "source": [
        "validation_set = tf.keras.utils.image_dataset_from_directory(\n",
        "   '/content/drive/MyDrive/Dataset/valid', # Updated path to be absolute\n",
        "    labels=\"inferred\",\n",
        "    label_mode=\"categorical\",\n",
        "   class_names=None,\n",
        "   color_mode=\"rgb\",\n",
        "   batch_size=32,\n",
        "  image_size= (128, 128),\n",
        "   shuffle=True,\n",
        "   seed=None,\n",
        "   validation_split=None,\n",
        "   subset=None,\n",
        "   interpolation=\"bilinear\",\n",
        "   follow_links=False,\n",
        "   crop_to_aspect_ratio=False\n",
        ")"
      ]
    },
    {
      "cell_type": "code",
      "execution_count": null,
      "metadata": {
        "id": "JW6AASto3ZBN"
      },
      "outputs": [],
      "source": [
        "cnn = tf. keras.models.Sequential()"
      ]
    },
    {
      "cell_type": "code",
      "execution_count": null,
      "metadata": {
        "colab": {
          "base_uri": "https://localhost:8080/"
        },
        "id": "_54D5IrY3hP9",
        "outputId": "aa67e2c7-75b4-4c85-a492-b944c88c3891"
      },
      "outputs": [
        {
          "name": "stderr",
          "output_type": "stream",
          "text": [
            "/usr/local/lib/python3.11/dist-packages/keras/src/layers/convolutional/base_conv.py:107: UserWarning: Do not pass an `input_shape`/`input_dim` argument to a layer. When using Sequential models, prefer using an `Input(shape)` object as the first layer in the model instead.\n",
            "  super().__init__(activity_regularizer=activity_regularizer, **kwargs)\n"
          ]
        }
      ],
      "source": [
        "cnn.add(tf.keras.layers.Conv2D(filters=32, kernel_size=3, padding='same', activation='relu', input_shape=[128, 128, 3])) # Corrected padding to 'same' and input_shape to [128, 128, 3]\n",
        "cnn.add(tf.keras.layers.Conv2D(filters=32, kernel_size=3, activation='relu'))\n",
        "cnn.add(tf.keras.layers.MaxPool2D(pool_size=2, strides=2)) # Corrected MaxPoo12D to MaxPool2D"
      ]
    },
    {
      "cell_type": "code",
      "execution_count": null,
      "metadata": {
        "id": "mZhCbKm74BkM"
      },
      "outputs": [],
      "source": [
        "cnn.add(tf.keras.layers.Conv2D(filters=64, kernel_size=3, padding='same', activation='relu'))"
      ]
    },
    {
      "cell_type": "code",
      "execution_count": null,
      "metadata": {
        "colab": {
          "base_uri": "https://localhost:8080/"
        },
        "id": "G0UmXBNy4HX0",
        "outputId": "f2a26485-5c4d-41e1-820c-67ca57799c47"
      },
      "outputs": [
        {
          "name": "stderr",
          "output_type": "stream",
          "text": [
            "/usr/local/lib/python3.11/dist-packages/keras/src/layers/convolutional/base_conv.py:107: UserWarning: Do not pass an `input_shape`/`input_dim` argument to a layer. When using Sequential models, prefer using an `Input(shape)` object as the first layer in the model instead.\n",
            "  super().__init__(activity_regularizer=activity_regularizer, **kwargs)\n"
          ]
        }
      ],
      "source": [
        "cnn.add(tf.keras.layers.Conv2D(filters=128,kernel_size=3, padding='same',activation='relu', input_shape=[128, 128, 3])) # Removed extra space before 'same' and updated input shape"
      ]
    },
    {
      "cell_type": "code",
      "execution_count": null,
      "metadata": {
        "colab": {
          "base_uri": "https://localhost:8080/"
        },
        "id": "VDe2irVs5R6d",
        "outputId": "de99f205-5261-4b46-b518-5902330e1b96"
      },
      "outputs": [
        {
          "name": "stderr",
          "output_type": "stream",
          "text": [
            "/usr/local/lib/python3.11/dist-packages/keras/src/layers/convolutional/base_conv.py:107: UserWarning: Do not pass an `input_shape`/`input_dim` argument to a layer. When using Sequential models, prefer using an `Input(shape)` object as the first layer in the model instead.\n",
            "  super().__init__(activity_regularizer=activity_regularizer, **kwargs)\n"
          ]
        }
      ],
      "source": [
        "cnn = tf.keras.models.Sequential()\n",
        "cnn.add(tf.keras.layers.Conv2D(filters=32, kernel_size=3, padding='same', activation='relu', input_shape=[128, 128, 3]))\n",
        "cnn.add(tf.keras.layers.Conv2D(filters=32, kernel_size=3, activation='relu'))\n",
        "cnn.add(tf.keras.layers.MaxPool2D(pool_size=2, strides=2))\n",
        "cnn.add(tf.keras.layers.Conv2D(filters=64, kernel_size=3, padding='same', activation='relu'))\n",
        "cnn.add(tf.keras.layers.Conv2D(filters=128,kernel_size=3, padding='same',activation='relu'))  # Removed input_shape here\n",
        "cnn.add(tf.keras.layers.Conv2D(filters=512, kernel_size=3, padding='same', activation='relu'))\n",
        "cnn.add(tf.keras.layers.Conv2D(filters=512, kernel_size=3, activation='relu'))\n",
        "cnn.add(tf.keras.layers.MaxPool2D(pool_size=2, strides=2))\n",
        "cnn.add(tf.keras.layers.Dropout(0.25))\n",
        "cnn.add(tf.keras.layers.Flatten())\n",
        "cnn.add(tf.keras.layers.Dense(units=1500, activation='relu'))\n",
        "cnn.add(tf.keras.layers.Dropout(0.4)) # Changed to 0.4 to represent 40%\n",
        "# Remove or comment out the problematic Dense layer if it's not needed\n",
        "# cnn.add(tf.keras.layers.Dense(units=38, activation='relu'))\n",
        "#If you want a final classification layer, add it after the Dense(1500) and dropout\n",
        "cnn.add(tf.keras.layers.Dense(units=38, activation='softmax')) # Assuming 38 classes, use softmax for multi-class classification"
      ]
    },
    {
      "cell_type": "code",
      "execution_count": null,
      "metadata": {
        "id": "YO3m--aM6jtY"
      },
      "outputs": [],
      "source": [
        "cnn.add(tf.keras.layers.Dropout(0.25))"
      ]
    },
    {
      "cell_type": "code",
      "execution_count": null,
      "metadata": {
        "id": "TCTlM5cH6boK"
      },
      "outputs": [],
      "source": [
        "cnn.add(tf.keras.layers.Flatten())"
      ]
    },
    {
      "cell_type": "code",
      "execution_count": null,
      "metadata": {
        "id": "yESGxrP46wqj"
      },
      "outputs": [],
      "source": [
        "cnn.add(tf.keras.layers.Dense(units=1500, activation='relu'))"
      ]
    },
    {
      "cell_type": "code",
      "execution_count": null,
      "metadata": {
        "id": "P9fqKTDS6_qy"
      },
      "outputs": [],
      "source": [
        "cnn.add(tf.keras.layers.Dropout(00.4)) #to avoid overlifting"
      ]
    },
    {
      "cell_type": "code",
      "execution_count": null,
      "metadata": {
        "id": "_w37sPK37QgI"
      },
      "outputs": [],
      "source": [
        "cnn.add(tf.keras.layers.Dense(units=38, activation='relu'))"
      ]
    },
    {
      "cell_type": "code",
      "execution_count": null,
      "metadata": {
        "id": "Y4XbTg2v7aum"
      },
      "outputs": [],
      "source": [
        "cnn. add(tf.keras. layers.Dense(units=38,activation='softmax'))"
      ]
    },
    {
      "cell_type": "code",
      "execution_count": null,
      "metadata": {
        "id": "zb58_0NA8xLr"
      },
      "outputs": [],
      "source": [
        "cnn. compile(optimizer=tf.keras.optimizers.Adam(\n",
        "learning_rate=0.0001), loss='categorical_cfossentropy',metrics=['accuracy'])"
      ]
    },
    {
      "cell_type": "code",
      "execution_count": null,
      "metadata": {
        "colab": {
          "base_uri": "https://localhost:8080/",
          "height": 577
        },
        "id": "CyH6xMZu8252",
        "outputId": "27be784c-af9e-4c24-9e77-59a77d8dd3e5"
      },
      "outputs": [
        {
          "data": {
            "text/html": [
              "<pre style=\"white-space:pre;overflow-x:auto;line-height:normal;font-family:Menlo,'DejaVu Sans Mono',consolas,'Courier New',monospace\"><span style=\"font-weight: bold\">Model: \"sequential_1\"</span>\n",
              "</pre>\n"
            ],
            "text/plain": [
              "\u001b[1mModel: \"sequential_1\"\u001b[0m\n"
            ]
          },
          "metadata": {},
          "output_type": "display_data"
        },
        {
          "data": {
            "text/html": [
              "<pre style=\"white-space:pre;overflow-x:auto;line-height:normal;font-family:Menlo,'DejaVu Sans Mono',consolas,'Courier New',monospace\">┏━━━━━━━━━━━━━━━━━━━━━━━━━━━━━━━━━━━━━━┳━━━━━━━━━━━━━━━━━━━━━━━━━━━━━┳━━━━━━━━━━━━━━━━━┓\n",
              "┃<span style=\"font-weight: bold\"> Layer (type)                         </span>┃<span style=\"font-weight: bold\"> Output Shape                </span>┃<span style=\"font-weight: bold\">         Param # </span>┃\n",
              "┡━━━━━━━━━━━━━━━━━━━━━━━━━━━━━━━━━━━━━━╇━━━━━━━━━━━━━━━━━━━━━━━━━━━━━╇━━━━━━━━━━━━━━━━━┩\n",
              "│ conv2d_13 (<span style=\"color: #0087ff; text-decoration-color: #0087ff\">Conv2D</span>)                   │ (<span style=\"color: #00d7ff; text-decoration-color: #00d7ff\">None</span>, <span style=\"color: #00af00; text-decoration-color: #00af00\">128</span>, <span style=\"color: #00af00; text-decoration-color: #00af00\">128</span>, <span style=\"color: #00af00; text-decoration-color: #00af00\">32</span>)        │             <span style=\"color: #00af00; text-decoration-color: #00af00\">896</span> │\n",
              "├──────────────────────────────────────┼─────────────────────────────┼─────────────────┤\n",
              "│ conv2d_14 (<span style=\"color: #0087ff; text-decoration-color: #0087ff\">Conv2D</span>)                   │ (<span style=\"color: #00d7ff; text-decoration-color: #00d7ff\">None</span>, <span style=\"color: #00af00; text-decoration-color: #00af00\">126</span>, <span style=\"color: #00af00; text-decoration-color: #00af00\">126</span>, <span style=\"color: #00af00; text-decoration-color: #00af00\">32</span>)        │           <span style=\"color: #00af00; text-decoration-color: #00af00\">9,248</span> │\n",
              "├──────────────────────────────────────┼─────────────────────────────┼─────────────────┤\n",
              "│ max_pooling2d_2 (<span style=\"color: #0087ff; text-decoration-color: #0087ff\">MaxPooling2D</span>)       │ (<span style=\"color: #00d7ff; text-decoration-color: #00d7ff\">None</span>, <span style=\"color: #00af00; text-decoration-color: #00af00\">63</span>, <span style=\"color: #00af00; text-decoration-color: #00af00\">63</span>, <span style=\"color: #00af00; text-decoration-color: #00af00\">32</span>)          │               <span style=\"color: #00af00; text-decoration-color: #00af00\">0</span> │\n",
              "├──────────────────────────────────────┼─────────────────────────────┼─────────────────┤\n",
              "│ conv2d_15 (<span style=\"color: #0087ff; text-decoration-color: #0087ff\">Conv2D</span>)                   │ (<span style=\"color: #00d7ff; text-decoration-color: #00d7ff\">None</span>, <span style=\"color: #00af00; text-decoration-color: #00af00\">63</span>, <span style=\"color: #00af00; text-decoration-color: #00af00\">63</span>, <span style=\"color: #00af00; text-decoration-color: #00af00\">64</span>)          │          <span style=\"color: #00af00; text-decoration-color: #00af00\">18,496</span> │\n",
              "├──────────────────────────────────────┼─────────────────────────────┼─────────────────┤\n",
              "│ conv2d_16 (<span style=\"color: #0087ff; text-decoration-color: #0087ff\">Conv2D</span>)                   │ (<span style=\"color: #00d7ff; text-decoration-color: #00d7ff\">None</span>, <span style=\"color: #00af00; text-decoration-color: #00af00\">63</span>, <span style=\"color: #00af00; text-decoration-color: #00af00\">63</span>, <span style=\"color: #00af00; text-decoration-color: #00af00\">128</span>)         │          <span style=\"color: #00af00; text-decoration-color: #00af00\">73,856</span> │\n",
              "├──────────────────────────────────────┼─────────────────────────────┼─────────────────┤\n",
              "│ conv2d_17 (<span style=\"color: #0087ff; text-decoration-color: #0087ff\">Conv2D</span>)                   │ (<span style=\"color: #00d7ff; text-decoration-color: #00d7ff\">None</span>, <span style=\"color: #00af00; text-decoration-color: #00af00\">63</span>, <span style=\"color: #00af00; text-decoration-color: #00af00\">63</span>, <span style=\"color: #00af00; text-decoration-color: #00af00\">512</span>)         │         <span style=\"color: #00af00; text-decoration-color: #00af00\">590,336</span> │\n",
              "├──────────────────────────────────────┼─────────────────────────────┼─────────────────┤\n",
              "│ conv2d_18 (<span style=\"color: #0087ff; text-decoration-color: #0087ff\">Conv2D</span>)                   │ (<span style=\"color: #00d7ff; text-decoration-color: #00d7ff\">None</span>, <span style=\"color: #00af00; text-decoration-color: #00af00\">61</span>, <span style=\"color: #00af00; text-decoration-color: #00af00\">61</span>, <span style=\"color: #00af00; text-decoration-color: #00af00\">512</span>)         │       <span style=\"color: #00af00; text-decoration-color: #00af00\">2,359,808</span> │\n",
              "├──────────────────────────────────────┼─────────────────────────────┼─────────────────┤\n",
              "│ max_pooling2d_3 (<span style=\"color: #0087ff; text-decoration-color: #0087ff\">MaxPooling2D</span>)       │ (<span style=\"color: #00d7ff; text-decoration-color: #00d7ff\">None</span>, <span style=\"color: #00af00; text-decoration-color: #00af00\">30</span>, <span style=\"color: #00af00; text-decoration-color: #00af00\">30</span>, <span style=\"color: #00af00; text-decoration-color: #00af00\">512</span>)         │               <span style=\"color: #00af00; text-decoration-color: #00af00\">0</span> │\n",
              "├──────────────────────────────────────┼─────────────────────────────┼─────────────────┤\n",
              "│ dropout_3 (<span style=\"color: #0087ff; text-decoration-color: #0087ff\">Dropout</span>)                  │ (<span style=\"color: #00d7ff; text-decoration-color: #00d7ff\">None</span>, <span style=\"color: #00af00; text-decoration-color: #00af00\">30</span>, <span style=\"color: #00af00; text-decoration-color: #00af00\">30</span>, <span style=\"color: #00af00; text-decoration-color: #00af00\">512</span>)         │               <span style=\"color: #00af00; text-decoration-color: #00af00\">0</span> │\n",
              "├──────────────────────────────────────┼─────────────────────────────┼─────────────────┤\n",
              "│ flatten_2 (<span style=\"color: #0087ff; text-decoration-color: #0087ff\">Flatten</span>)                  │ (<span style=\"color: #00d7ff; text-decoration-color: #00d7ff\">None</span>, <span style=\"color: #00af00; text-decoration-color: #00af00\">460800</span>)              │               <span style=\"color: #00af00; text-decoration-color: #00af00\">0</span> │\n",
              "├──────────────────────────────────────┼─────────────────────────────┼─────────────────┤\n",
              "│ dense_1 (<span style=\"color: #0087ff; text-decoration-color: #0087ff\">Dense</span>)                      │ (<span style=\"color: #00d7ff; text-decoration-color: #00d7ff\">None</span>, <span style=\"color: #00af00; text-decoration-color: #00af00\">1500</span>)                │     <span style=\"color: #00af00; text-decoration-color: #00af00\">691,201,500</span> │\n",
              "├──────────────────────────────────────┼─────────────────────────────┼─────────────────┤\n",
              "│ dropout_4 (<span style=\"color: #0087ff; text-decoration-color: #0087ff\">Dropout</span>)                  │ (<span style=\"color: #00d7ff; text-decoration-color: #00d7ff\">None</span>, <span style=\"color: #00af00; text-decoration-color: #00af00\">1500</span>)                │               <span style=\"color: #00af00; text-decoration-color: #00af00\">0</span> │\n",
              "├──────────────────────────────────────┼─────────────────────────────┼─────────────────┤\n",
              "│ dense_2 (<span style=\"color: #0087ff; text-decoration-color: #0087ff\">Dense</span>)                      │ (<span style=\"color: #00d7ff; text-decoration-color: #00d7ff\">None</span>, <span style=\"color: #00af00; text-decoration-color: #00af00\">38</span>)                  │          <span style=\"color: #00af00; text-decoration-color: #00af00\">57,038</span> │\n",
              "├──────────────────────────────────────┼─────────────────────────────┼─────────────────┤\n",
              "│ dense_3 (<span style=\"color: #0087ff; text-decoration-color: #0087ff\">Dense</span>)                      │ (<span style=\"color: #00d7ff; text-decoration-color: #00d7ff\">None</span>, <span style=\"color: #00af00; text-decoration-color: #00af00\">38</span>)                  │           <span style=\"color: #00af00; text-decoration-color: #00af00\">1,482</span> │\n",
              "└──────────────────────────────────────┴─────────────────────────────┴─────────────────┘\n",
              "</pre>\n"
            ],
            "text/plain": [
              "┏━━━━━━━━━━━━━━━━━━━━━━━━━━━━━━━━━━━━━━┳━━━━━━━━━━━━━━━━━━━━━━━━━━━━━┳━━━━━━━━━━━━━━━━━┓\n",
              "┃\u001b[1m \u001b[0m\u001b[1mLayer (type)                        \u001b[0m\u001b[1m \u001b[0m┃\u001b[1m \u001b[0m\u001b[1mOutput Shape               \u001b[0m\u001b[1m \u001b[0m┃\u001b[1m \u001b[0m\u001b[1m        Param #\u001b[0m\u001b[1m \u001b[0m┃\n",
              "┡━━━━━━━━━━━━━━━━━━━━━━━━━━━━━━━━━━━━━━╇━━━━━━━━━━━━━━━━━━━━━━━━━━━━━╇━━━━━━━━━━━━━━━━━┩\n",
              "│ conv2d_13 (\u001b[38;5;33mConv2D\u001b[0m)                   │ (\u001b[38;5;45mNone\u001b[0m, \u001b[38;5;34m128\u001b[0m, \u001b[38;5;34m128\u001b[0m, \u001b[38;5;34m32\u001b[0m)        │             \u001b[38;5;34m896\u001b[0m │\n",
              "├──────────────────────────────────────┼─────────────────────────────┼─────────────────┤\n",
              "│ conv2d_14 (\u001b[38;5;33mConv2D\u001b[0m)                   │ (\u001b[38;5;45mNone\u001b[0m, \u001b[38;5;34m126\u001b[0m, \u001b[38;5;34m126\u001b[0m, \u001b[38;5;34m32\u001b[0m)        │           \u001b[38;5;34m9,248\u001b[0m │\n",
              "├──────────────────────────────────────┼─────────────────────────────┼─────────────────┤\n",
              "│ max_pooling2d_2 (\u001b[38;5;33mMaxPooling2D\u001b[0m)       │ (\u001b[38;5;45mNone\u001b[0m, \u001b[38;5;34m63\u001b[0m, \u001b[38;5;34m63\u001b[0m, \u001b[38;5;34m32\u001b[0m)          │               \u001b[38;5;34m0\u001b[0m │\n",
              "├──────────────────────────────────────┼─────────────────────────────┼─────────────────┤\n",
              "│ conv2d_15 (\u001b[38;5;33mConv2D\u001b[0m)                   │ (\u001b[38;5;45mNone\u001b[0m, \u001b[38;5;34m63\u001b[0m, \u001b[38;5;34m63\u001b[0m, \u001b[38;5;34m64\u001b[0m)          │          \u001b[38;5;34m18,496\u001b[0m │\n",
              "├──────────────────────────────────────┼─────────────────────────────┼─────────────────┤\n",
              "│ conv2d_16 (\u001b[38;5;33mConv2D\u001b[0m)                   │ (\u001b[38;5;45mNone\u001b[0m, \u001b[38;5;34m63\u001b[0m, \u001b[38;5;34m63\u001b[0m, \u001b[38;5;34m128\u001b[0m)         │          \u001b[38;5;34m73,856\u001b[0m │\n",
              "├──────────────────────────────────────┼─────────────────────────────┼─────────────────┤\n",
              "│ conv2d_17 (\u001b[38;5;33mConv2D\u001b[0m)                   │ (\u001b[38;5;45mNone\u001b[0m, \u001b[38;5;34m63\u001b[0m, \u001b[38;5;34m63\u001b[0m, \u001b[38;5;34m512\u001b[0m)         │         \u001b[38;5;34m590,336\u001b[0m │\n",
              "├──────────────────────────────────────┼─────────────────────────────┼─────────────────┤\n",
              "│ conv2d_18 (\u001b[38;5;33mConv2D\u001b[0m)                   │ (\u001b[38;5;45mNone\u001b[0m, \u001b[38;5;34m61\u001b[0m, \u001b[38;5;34m61\u001b[0m, \u001b[38;5;34m512\u001b[0m)         │       \u001b[38;5;34m2,359,808\u001b[0m │\n",
              "├──────────────────────────────────────┼─────────────────────────────┼─────────────────┤\n",
              "│ max_pooling2d_3 (\u001b[38;5;33mMaxPooling2D\u001b[0m)       │ (\u001b[38;5;45mNone\u001b[0m, \u001b[38;5;34m30\u001b[0m, \u001b[38;5;34m30\u001b[0m, \u001b[38;5;34m512\u001b[0m)         │               \u001b[38;5;34m0\u001b[0m │\n",
              "├──────────────────────────────────────┼─────────────────────────────┼─────────────────┤\n",
              "│ dropout_3 (\u001b[38;5;33mDropout\u001b[0m)                  │ (\u001b[38;5;45mNone\u001b[0m, \u001b[38;5;34m30\u001b[0m, \u001b[38;5;34m30\u001b[0m, \u001b[38;5;34m512\u001b[0m)         │               \u001b[38;5;34m0\u001b[0m │\n",
              "├──────────────────────────────────────┼─────────────────────────────┼─────────────────┤\n",
              "│ flatten_2 (\u001b[38;5;33mFlatten\u001b[0m)                  │ (\u001b[38;5;45mNone\u001b[0m, \u001b[38;5;34m460800\u001b[0m)              │               \u001b[38;5;34m0\u001b[0m │\n",
              "├──────────────────────────────────────┼─────────────────────────────┼─────────────────┤\n",
              "│ dense_1 (\u001b[38;5;33mDense\u001b[0m)                      │ (\u001b[38;5;45mNone\u001b[0m, \u001b[38;5;34m1500\u001b[0m)                │     \u001b[38;5;34m691,201,500\u001b[0m │\n",
              "├──────────────────────────────────────┼─────────────────────────────┼─────────────────┤\n",
              "│ dropout_4 (\u001b[38;5;33mDropout\u001b[0m)                  │ (\u001b[38;5;45mNone\u001b[0m, \u001b[38;5;34m1500\u001b[0m)                │               \u001b[38;5;34m0\u001b[0m │\n",
              "├──────────────────────────────────────┼─────────────────────────────┼─────────────────┤\n",
              "│ dense_2 (\u001b[38;5;33mDense\u001b[0m)                      │ (\u001b[38;5;45mNone\u001b[0m, \u001b[38;5;34m38\u001b[0m)                  │          \u001b[38;5;34m57,038\u001b[0m │\n",
              "├──────────────────────────────────────┼─────────────────────────────┼─────────────────┤\n",
              "│ dense_3 (\u001b[38;5;33mDense\u001b[0m)                      │ (\u001b[38;5;45mNone\u001b[0m, \u001b[38;5;34m38\u001b[0m)                  │           \u001b[38;5;34m1,482\u001b[0m │\n",
              "└──────────────────────────────────────┴─────────────────────────────┴─────────────────┘\n"
            ]
          },
          "metadata": {},
          "output_type": "display_data"
        },
        {
          "data": {
            "text/html": [
              "<pre style=\"white-space:pre;overflow-x:auto;line-height:normal;font-family:Menlo,'DejaVu Sans Mono',consolas,'Courier New',monospace\"><span style=\"font-weight: bold\"> Total params: </span><span style=\"color: #00af00; text-decoration-color: #00af00\">694,312,660</span> (2.59 GB)\n",
              "</pre>\n"
            ],
            "text/plain": [
              "\u001b[1m Total params: \u001b[0m\u001b[38;5;34m694,312,660\u001b[0m (2.59 GB)\n"
            ]
          },
          "metadata": {},
          "output_type": "display_data"
        },
        {
          "data": {
            "text/html": [
              "<pre style=\"white-space:pre;overflow-x:auto;line-height:normal;font-family:Menlo,'DejaVu Sans Mono',consolas,'Courier New',monospace\"><span style=\"font-weight: bold\"> Trainable params: </span><span style=\"color: #00af00; text-decoration-color: #00af00\">694,312,660</span> (2.59 GB)\n",
              "</pre>\n"
            ],
            "text/plain": [
              "\u001b[1m Trainable params: \u001b[0m\u001b[38;5;34m694,312,660\u001b[0m (2.59 GB)\n"
            ]
          },
          "metadata": {},
          "output_type": "display_data"
        },
        {
          "data": {
            "text/html": [
              "<pre style=\"white-space:pre;overflow-x:auto;line-height:normal;font-family:Menlo,'DejaVu Sans Mono',consolas,'Courier New',monospace\"><span style=\"font-weight: bold\"> Non-trainable params: </span><span style=\"color: #00af00; text-decoration-color: #00af00\">0</span> (0.00 B)\n",
              "</pre>\n"
            ],
            "text/plain": [
              "\u001b[1m Non-trainable params: \u001b[0m\u001b[38;5;34m0\u001b[0m (0.00 B)\n"
            ]
          },
          "metadata": {},
          "output_type": "display_data"
        }
      ],
      "source": [
        "cnn.summary()"
      ]
    },
    {
      "cell_type": "code",
      "execution_count": null,
      "metadata": {
        "colab": {
          "background_save": true
        },
        "id": "z5KtWPBiJMmB"
      },
      "outputs": [],
      "source": [
        "training_history = cnn. fit(x=training_set, validation_data=validation_set, epochs=2)"
      ]
    },
    {
      "cell_type": "code",
      "execution_count": null,
      "metadata": {
        "colab": {
          "base_uri": "https://localhost:8080/"
        },
        "id": "CszlE9v7BIkS",
        "outputId": "746905f7-605d-4646-d539-116d0ef975cc"
      },
      "outputs": [
        {
          "name": "stdout",
          "output_type": "stream",
          "text": [
            "['Grape___Black_rot', 'Strawberry___healthy', 'Pepper,_bell___healthy', 'Tomato___Tomato_mosaic_virus', 'Tomato___Target_Spot', 'Potato___Late_blight', 'Orange___Haunglongbing_(Citrus_greening)', 'Blueberry___healthy', 'Tomato___Late_blight', 'Peach___healthy', 'Potato___Early_blight', 'Corn_(maize)___healthy', 'Grape___Leaf_blight_(Isariopsis_Leaf_Spot)', 'Corn_(maize)___Common_rust_', 'Grape___healthy', 'Cherry_(including_sour)___Powdery_mildew', 'Tomato___Bacterial_spot', 'Tomato___Leaf_Mold', 'Grape___Esca_(Black_Measles)', 'Tomato___Early_blight', 'Raspberry___healthy', 'Apple___Cedar_apple_rust', 'Corn_(maize)___Northern_Leaf_Blight', 'Cherry_(including_sour)___healthy', 'Pepper,_bell___Bacterial_spot', 'Tomato___healthy', 'Apple___Apple_scab', 'Squash___Powdery_mildew', 'Tomato___Tomato_Yellow_Leaf_Curl_Virus', 'Peach___Bacterial_spot', 'Tomato___Septoria_leaf_spot', 'Tomato___Spider_mites Two-spotted_spider_mite', 'Potato___healthy', 'Apple___healthy', 'Apple___Black_rot', 'Soybean___healthy', 'Corn_(maize)___Cercospora_leaf_spot Gray_leaf_spot', 'Strawberry___Leaf_scorch']\n"
          ]
        }
      ],
      "source": [
        "import os\n",
        "print(os.listdir('/content/drive/MyDrive/Dataset/train'))"
      ]
    },
    {
      "cell_type": "code",
      "execution_count": null,
      "metadata": {
        "colab": {
          "base_uri": "https://localhost:8080/"
        },
        "id": "WH9fj7AICTH8",
        "outputId": "a1b19cfa-6bcd-47a0-d584-4f7a36961da5"
      },
      "outputs": [
        {
          "name": "stdout",
          "output_type": "stream",
          "text": [
            "Unsupported file format: Grape___Black_rot\n",
            "Unsupported file format: Strawberry___healthy\n",
            "Unsupported file format: Pepper,_bell___healthy\n",
            "Unsupported file format: Tomato___Tomato_mosaic_virus\n",
            "Unsupported file format: Tomato___Target_Spot\n",
            "Unsupported file format: Potato___Late_blight\n",
            "Unsupported file format: Orange___Haunglongbing_(Citrus_greening)\n",
            "Unsupported file format: Blueberry___healthy\n",
            "Unsupported file format: Tomato___Late_blight\n",
            "Unsupported file format: Peach___healthy\n",
            "Unsupported file format: Potato___Early_blight\n",
            "Unsupported file format: Corn_(maize)___healthy\n",
            "Unsupported file format: Grape___Leaf_blight_(Isariopsis_Leaf_Spot)\n",
            "Unsupported file format: Corn_(maize)___Common_rust_\n",
            "Unsupported file format: Grape___healthy\n",
            "Unsupported file format: Cherry_(including_sour)___Powdery_mildew\n",
            "Unsupported file format: Tomato___Bacterial_spot\n",
            "Unsupported file format: Tomato___Leaf_Mold\n",
            "Unsupported file format: Grape___Esca_(Black_Measles)\n",
            "Unsupported file format: Tomato___Early_blight\n",
            "Unsupported file format: Raspberry___healthy\n",
            "Unsupported file format: Apple___Cedar_apple_rust\n",
            "Unsupported file format: Corn_(maize)___Northern_Leaf_Blight\n",
            "Unsupported file format: Cherry_(including_sour)___healthy\n",
            "Unsupported file format: Pepper,_bell___Bacterial_spot\n",
            "Unsupported file format: Tomato___healthy\n",
            "Unsupported file format: Apple___Apple_scab\n",
            "Unsupported file format: Squash___Powdery_mildew\n",
            "Unsupported file format: Tomato___Tomato_Yellow_Leaf_Curl_Virus\n",
            "Unsupported file format: Peach___Bacterial_spot\n",
            "Unsupported file format: Tomato___Septoria_leaf_spot\n",
            "Unsupported file format: Tomato___Spider_mites Two-spotted_spider_mite\n",
            "Unsupported file format: Potato___healthy\n",
            "Unsupported file format: Apple___healthy\n",
            "Unsupported file format: Apple___Black_rot\n",
            "Unsupported file format: Soybean___healthy\n",
            "Unsupported file format: Corn_(maize)___Cercospora_leaf_spot Gray_leaf_spot\n",
            "Unsupported file format: Strawberry___Leaf_scorch\n"
          ]
        }
      ],
      "source": [
        "for filename in os.listdir('/content/drive/MyDrive/Dataset/train'):\n",
        "       if not filename.lower().endswith(('.bmp', '.gif', '.jpeg', '.jpg', '.png')):\n",
        "           print(f\"Unsupported file format: {filename}\")"
      ]
    },
    {
      "cell_type": "code",
      "execution_count": null,
      "metadata": {
        "colab": {
          "base_uri": "https://localhost:8080/",
          "height": 1000
        },
        "id": "SewFFzj4B953",
        "outputId": "4dafc533-6623-4b61-8b9a-f61012826842"
      },
      "outputs": [
        {
          "name": "stdout",
          "output_type": "stream",
          "text": [
            "['Grape___Black_rot', 'Strawberry___healthy', 'Pepper,_bell___healthy', 'Tomato___Tomato_mosaic_virus', 'Tomato___Target_Spot', 'Potato___Late_blight', 'Orange___Haunglongbing_(Citrus_greening)', 'Blueberry___healthy', 'Tomato___Late_blight', 'Peach___healthy', 'Potato___Early_blight', 'Corn_(maize)___healthy', 'Grape___Leaf_blight_(Isariopsis_Leaf_Spot)', 'Corn_(maize)___Common_rust_', 'Grape___healthy', 'Cherry_(including_sour)___Powdery_mildew', 'Tomato___Bacterial_spot', 'Tomato___Leaf_Mold', 'Grape___Esca_(Black_Measles)', 'Tomato___Early_blight', 'Raspberry___healthy', 'Apple___Cedar_apple_rust', 'Corn_(maize)___Northern_Leaf_Blight', 'Cherry_(including_sour)___healthy', 'Pepper,_bell___Bacterial_spot', 'Tomato___healthy', 'Apple___Apple_scab', 'Squash___Powdery_mildew', 'Tomato___Tomato_Yellow_Leaf_Curl_Virus', 'Peach___Bacterial_spot', 'Tomato___Septoria_leaf_spot', 'Tomato___Spider_mites Two-spotted_spider_mite', 'Potato___healthy', 'Apple___healthy', 'Apple___Black_rot', 'Soybean___healthy', 'Corn_(maize)___Cercospora_leaf_spot Gray_leaf_spot', 'Strawberry___Leaf_scorch']\n",
            "Grape___Black_rot\n",
            "Unsupported file format: Grape___Black_rot\n",
            "Strawberry___healthy\n",
            "Unsupported file format: Strawberry___healthy\n",
            "Pepper,_bell___healthy\n",
            "Unsupported file format: Pepper,_bell___healthy\n",
            "Tomato___Tomato_mosaic_virus\n",
            "Unsupported file format: Tomato___Tomato_mosaic_virus\n",
            "Tomato___Target_Spot\n",
            "Unsupported file format: Tomato___Target_Spot\n",
            "Potato___Late_blight\n",
            "Unsupported file format: Potato___Late_blight\n",
            "Orange___Haunglongbing_(Citrus_greening)\n",
            "Unsupported file format: Orange___Haunglongbing_(Citrus_greening)\n",
            "Blueberry___healthy\n",
            "Unsupported file format: Blueberry___healthy\n",
            "Tomato___Late_blight\n",
            "Unsupported file format: Tomato___Late_blight\n",
            "Peach___healthy\n",
            "Unsupported file format: Peach___healthy\n",
            "Potato___Early_blight\n",
            "Unsupported file format: Potato___Early_blight\n",
            "Corn_(maize)___healthy\n",
            "Unsupported file format: Corn_(maize)___healthy\n",
            "Grape___Leaf_blight_(Isariopsis_Leaf_Spot)\n",
            "Unsupported file format: Grape___Leaf_blight_(Isariopsis_Leaf_Spot)\n",
            "Corn_(maize)___Common_rust_\n",
            "Unsupported file format: Corn_(maize)___Common_rust_\n",
            "Grape___healthy\n",
            "Unsupported file format: Grape___healthy\n",
            "Cherry_(including_sour)___Powdery_mildew\n",
            "Unsupported file format: Cherry_(including_sour)___Powdery_mildew\n",
            "Tomato___Bacterial_spot\n",
            "Unsupported file format: Tomato___Bacterial_spot\n",
            "Tomato___Leaf_Mold\n",
            "Unsupported file format: Tomato___Leaf_Mold\n",
            "Grape___Esca_(Black_Measles)\n",
            "Unsupported file format: Grape___Esca_(Black_Measles)\n",
            "Tomato___Early_blight\n",
            "Unsupported file format: Tomato___Early_blight\n",
            "Raspberry___healthy\n",
            "Unsupported file format: Raspberry___healthy\n",
            "Apple___Cedar_apple_rust\n",
            "Unsupported file format: Apple___Cedar_apple_rust\n",
            "Corn_(maize)___Northern_Leaf_Blight\n",
            "Unsupported file format: Corn_(maize)___Northern_Leaf_Blight\n",
            "Cherry_(including_sour)___healthy\n",
            "Unsupported file format: Cherry_(including_sour)___healthy\n",
            "Pepper,_bell___Bacterial_spot\n",
            "Unsupported file format: Pepper,_bell___Bacterial_spot\n",
            "Tomato___healthy\n",
            "Unsupported file format: Tomato___healthy\n",
            "Apple___Apple_scab\n",
            "Unsupported file format: Apple___Apple_scab\n",
            "Squash___Powdery_mildew\n",
            "Unsupported file format: Squash___Powdery_mildew\n",
            "Tomato___Tomato_Yellow_Leaf_Curl_Virus\n",
            "Unsupported file format: Tomato___Tomato_Yellow_Leaf_Curl_Virus\n",
            "Peach___Bacterial_spot\n",
            "Unsupported file format: Peach___Bacterial_spot\n",
            "Tomato___Septoria_leaf_spot\n",
            "Unsupported file format: Tomato___Septoria_leaf_spot\n",
            "Tomato___Spider_mites Two-spotted_spider_mite\n",
            "Unsupported file format: Tomato___Spider_mites Two-spotted_spider_mite\n",
            "Potato___healthy\n",
            "Unsupported file format: Potato___healthy\n",
            "Apple___healthy\n",
            "Unsupported file format: Apple___healthy\n",
            "Apple___Black_rot\n",
            "Unsupported file format: Apple___Black_rot\n",
            "Soybean___healthy\n",
            "Unsupported file format: Soybean___healthy\n",
            "Corn_(maize)___Cercospora_leaf_spot Gray_leaf_spot\n",
            "Unsupported file format: Corn_(maize)___Cercospora_leaf_spot Gray_leaf_spot\n",
            "Strawberry___Leaf_scorch\n",
            "Unsupported file format: Strawberry___Leaf_scorch\n",
            "Found 0 files belonging to 38 classes.\n"
          ]
        },
        {
          "ename": "ValueError",
          "evalue": "No images found in directory /content/drive/MyDrive/Dataset/train. Allowed formats: ('.bmp', '.gif', '.jpeg', '.jpg', '.png')",
          "output_type": "error",
          "traceback": [
            "\u001b[0;31m---------------------------------------------------------------------------\u001b[0m",
            "\u001b[0;31mValueError\u001b[0m                                Traceback (most recent call last)",
            "\u001b[0;32m<ipython-input-55-78c60a8742a3>\u001b[0m in \u001b[0;36m<cell line: 0>\u001b[0;34m()\u001b[0m\n\u001b[1;32m     15\u001b[0m \u001b[0;31m# 2. Handle Subfolders (if present):\u001b[0m\u001b[0;34m\u001b[0m\u001b[0;34m\u001b[0m\u001b[0m\n\u001b[1;32m     16\u001b[0m \u001b[0;31m# If your images are in subfolders, use labels='inferred'\u001b[0m\u001b[0;34m\u001b[0m\u001b[0;34m\u001b[0m\u001b[0m\n\u001b[0;32m---> 17\u001b[0;31m training_set = tf.keras.utils.image_dataset_from_directory(\n\u001b[0m\u001b[1;32m     18\u001b[0m     \u001b[0;34m'/content/drive/MyDrive/Dataset/train'\u001b[0m\u001b[0;34m,\u001b[0m\u001b[0;34m\u001b[0m\u001b[0;34m\u001b[0m\u001b[0m\n\u001b[1;32m     19\u001b[0m     \u001b[0mlabels\u001b[0m\u001b[0;34m=\u001b[0m\u001b[0;34m'inferred'\u001b[0m\u001b[0;34m,\u001b[0m  \u001b[0;31m# Infer labels from subfolder names\u001b[0m\u001b[0;34m\u001b[0m\u001b[0;34m\u001b[0m\u001b[0m\n",
            "\u001b[0;32m/usr/local/lib/python3.11/dist-packages/keras/src/utils/image_dataset_utils.py\u001b[0m in \u001b[0;36mimage_dataset_from_directory\u001b[0;34m(directory, labels, label_mode, class_names, color_mode, batch_size, image_size, shuffle, seed, validation_split, subset, interpolation, follow_links, crop_to_aspect_ratio, pad_to_aspect_ratio, data_format, verbose)\u001b[0m\n\u001b[1;32m    319\u001b[0m         )\n\u001b[1;32m    320\u001b[0m         \u001b[0;32mif\u001b[0m \u001b[0;32mnot\u001b[0m \u001b[0mimage_paths\u001b[0m\u001b[0;34m:\u001b[0m\u001b[0;34m\u001b[0m\u001b[0;34m\u001b[0m\u001b[0m\n\u001b[0;32m--> 321\u001b[0;31m             raise ValueError(\n\u001b[0m\u001b[1;32m    322\u001b[0m                 \u001b[0;34mf\"No images found in directory {directory}. \"\u001b[0m\u001b[0;34m\u001b[0m\u001b[0;34m\u001b[0m\u001b[0m\n\u001b[1;32m    323\u001b[0m                 \u001b[0;34mf\"Allowed formats: {ALLOWLIST_FORMATS}\"\u001b[0m\u001b[0;34m\u001b[0m\u001b[0;34m\u001b[0m\u001b[0m\n",
            "\u001b[0;31mValueError\u001b[0m: No images found in directory /content/drive/MyDrive/Dataset/train. Allowed formats: ('.bmp', '.gif', '.jpeg', '.jpg', '.png')"
          ]
        }
      ],
      "source": [
        "import tensorflow as tf\n",
        "import matplotlib.pyplot as plt\n",
        "import pandas as pd\n",
        "import seaborn as sns\n",
        "import os\n",
        "\n",
        "# 1. Verify Directory Path and Image Formats:\n",
        "# Print the contents of the directory to check for images and their formats\n",
        "print(os.listdir('/content/drive/MyDrive/Dataset/train'))\n",
        "for filename in os.listdir('/content/drive/MyDrive/Dataset/train'):\n",
        "    print(filename)  # Print the full filename\n",
        "    if not filename.lower().endswith(('.bmp', '.gif', '.jpeg', '.jpg', '.png')):\n",
        "        print(f\"Unsupported file format: {filename}\")\n",
        "\n",
        "# 2. Handle Subfolders (if present):\n",
        "# If your images are in subfolders, use labels='inferred'\n",
        "training_set = tf.keras.utils.image_dataset_from_directory(\n",
        "    '/content/drive/MyDrive/Dataset/train',\n",
        "    labels='inferred',  # Infer labels from subfolder names\n",
        "    label_mode='int',\n",
        "    class_names=None,\n",
        "    color_mode=\"rgb\",\n",
        "    batch_size=32,\n",
        "    image_size=(128, 128),\n",
        "    shuffle=True, seed=None,\n",
        "    validation_split=None,\n",
        "    subset=None,\n",
        "    interpolation=\"bilinear\",\n",
        "    follow_links=False,\n",
        "    crop_to_aspect_ratio=False\n",
        ")\n",
        "\n",
        "# ... (rest of the code) ...\n",
        "\n",
        "#Training set Accuracy\n",
        "train_loss, train_acc = cnn.evaluate(training_set)\n",
        "print( 'Training accuracy:', train_acc)"
      ]
    },
    {
      "cell_type": "code",
      "execution_count": null,
      "metadata": {
        "id": "ku-MDVwcCzFi"
      },
      "outputs": [],
      "source": [
        "#Validation set Accuracy\n",
        "cnn.compile(optimizer=tf.keras.optimizers.Adam(\n",
        "learning_rate=0.0001), loss='categorical_crossentropy',metrics=['accuracy'])"
      ]
    },
    {
      "cell_type": "code",
      "execution_count": null,
      "metadata": {
        "id": "l__hQ8oxC9ac"
      },
      "outputs": [],
      "source": [
        "cnn. save('trained_plant _disease_model.keras')"
      ]
    },
    {
      "cell_type": "code",
      "execution_count": null,
      "metadata": {
        "colab": {
          "base_uri": "https://localhost:8080/",
          "height": 190
        },
        "collapsed": true,
        "id": "xRNNlvanDP9K",
        "outputId": "7b24fe40-6596-4088-ff84-1721af8a5a62"
      },
      "outputs": [
        {
          "ename": "NameError",
          "evalue": "name 'training_set' is not defined",
          "output_type": "error",
          "traceback": [
            "\u001b[0;31m---------------------------------------------------------------------------\u001b[0m",
            "\u001b[0;31mNameError\u001b[0m                                 Traceback (most recent call last)",
            "\u001b[0;32m<ipython-input-63-7fb6d391a104>\u001b[0m in \u001b[0;36m<cell line: 0>\u001b[0;34m()\u001b[0m\n\u001b[0;32m----> 1\u001b[0;31m \u001b[0mtraining_history\u001b[0m \u001b[0;34m=\u001b[0m \u001b[0mcnn\u001b[0m\u001b[0;34m.\u001b[0m\u001b[0mfit\u001b[0m\u001b[0;34m(\u001b[0m\u001b[0mx\u001b[0m\u001b[0;34m=\u001b[0m\u001b[0mtraining_set\u001b[0m\u001b[0;34m,\u001b[0m \u001b[0mvalidation_data\u001b[0m\u001b[0;34m=\u001b[0m\u001b[0mvalidation_set\u001b[0m\u001b[0;34m,\u001b[0m \u001b[0mepochs\u001b[0m\u001b[0;34m=\u001b[0m\u001b[0;36m10\u001b[0m\u001b[0;34m)\u001b[0m\u001b[0;34m\u001b[0m\u001b[0;34m\u001b[0m\u001b[0m\n\u001b[0m",
            "\u001b[0;31mNameError\u001b[0m: name 'training_set' is not defined"
          ]
        }
      ],
      "source": [
        "training_history.history"
      ]
    },
    {
      "cell_type": "code",
      "execution_count": null,
      "metadata": {
        "colab": {
          "base_uri": "https://localhost:8080/",
          "height": 207
        },
        "collapsed": true,
        "id": "vD3FhIfYDQ-i",
        "outputId": "c7e98ec2-13e0-49de-9d7c-ef4a7582cf54"
      },
      "outputs": [
        {
          "ename": "NameError",
          "evalue": "name 'training_history' is not defined",
          "output_type": "error",
          "traceback": [
            "\u001b[0;31m---------------------------------------------------------------------------\u001b[0m",
            "\u001b[0;31mNameError\u001b[0m                                 Traceback (most recent call last)",
            "\u001b[0;32m<ipython-input-66-7d9dc2cada58>\u001b[0m in \u001b[0;36m<cell line: 0>\u001b[0;34m()\u001b[0m\n\u001b[1;32m      2\u001b[0m \u001b[0;32mimport\u001b[0m \u001b[0mjson\u001b[0m\u001b[0;34m\u001b[0m\u001b[0;34m\u001b[0m\u001b[0m\n\u001b[1;32m      3\u001b[0m \u001b[0;32mwith\u001b[0m \u001b[0mopen\u001b[0m \u001b[0;34m(\u001b[0m\u001b[0;34m'training_hist.json'\u001b[0m\u001b[0;34m,\u001b[0m\u001b[0;34m'w'\u001b[0m\u001b[0;34m)\u001b[0m \u001b[0;32mas\u001b[0m \u001b[0mf\u001b[0m\u001b[0;34m:\u001b[0m\u001b[0;34m\u001b[0m\u001b[0;34m\u001b[0m\u001b[0m\n\u001b[0;32m----> 4\u001b[0;31m  \u001b[0mjson\u001b[0m\u001b[0;34m.\u001b[0m \u001b[0mdump\u001b[0m \u001b[0;34m(\u001b[0m\u001b[0mtraining_history\u001b[0m\u001b[0;34m.\u001b[0m\u001b[0mhistory\u001b[0m\u001b[0;34m,\u001b[0m\u001b[0mf\u001b[0m\u001b[0;34m)\u001b[0m\u001b[0;34m\u001b[0m\u001b[0;34m\u001b[0m\u001b[0m\n\u001b[0m",
            "\u001b[0;31mNameError\u001b[0m: name 'training_history' is not defined"
          ]
        }
      ],
      "source": [
        "#Recording History in json\n",
        "import json\n",
        "with open ('training_hist.json','w') as f:\n",
        " json. dump (training_history.history,f)"
      ]
    },
    {
      "cell_type": "code",
      "execution_count": null,
      "metadata": {
        "id": "SG2dF7PNEfN4"
      },
      "outputs": [],
      "source": [
        "print(training_history.history.keys())"
      ]
    },
    {
      "cell_type": "code",
      "execution_count": null,
      "metadata": {
        "colab": {
          "base_uri": "https://localhost:8080/",
          "height": 1000
        },
        "id": "LJJB8XvtEjrY",
        "outputId": "bf7cb275-5e07-44ba-a762-ad92a304dbcb"
      },
      "outputs": [
        {
          "name": "stdout",
          "output_type": "stream",
          "text": [
            "['Grape___Black_rot', 'Strawberry___healthy', 'Pepper,_bell___healthy', 'Tomato___Tomato_mosaic_virus', 'Tomato___Target_Spot', 'Potato___Late_blight', 'Orange___Haunglongbing_(Citrus_greening)', 'Blueberry___healthy', 'Tomato___Late_blight', 'Peach___healthy', 'Potato___Early_blight', 'Corn_(maize)___healthy', 'Grape___Leaf_blight_(Isariopsis_Leaf_Spot)', 'Corn_(maize)___Common_rust_', 'Grape___healthy', 'Cherry_(including_sour)___Powdery_mildew', 'Tomato___Bacterial_spot', 'Tomato___Leaf_Mold', 'Grape___Esca_(Black_Measles)', 'Tomato___Early_blight', 'Raspberry___healthy', 'Apple___Cedar_apple_rust', 'Corn_(maize)___Northern_Leaf_Blight', 'Cherry_(including_sour)___healthy', 'Pepper,_bell___Bacterial_spot', 'Tomato___healthy', 'Apple___Apple_scab', 'Squash___Powdery_mildew', 'Tomato___Tomato_Yellow_Leaf_Curl_Virus', 'Peach___Bacterial_spot', 'Tomato___Septoria_leaf_spot', 'Tomato___Spider_mites Two-spotted_spider_mite', 'Potato___healthy', 'Apple___healthy', 'Apple___Black_rot', 'Soybean___healthy', 'Corn_(maize)___Cercospora_leaf_spot Gray_leaf_spot', 'Strawberry___Leaf_scorch']\n",
            "Grape___Black_rot\n",
            "Unsupported file format: Grape___Black_rot\n",
            "Strawberry___healthy\n",
            "Unsupported file format: Strawberry___healthy\n",
            "Pepper,_bell___healthy\n",
            "Unsupported file format: Pepper,_bell___healthy\n",
            "Tomato___Tomato_mosaic_virus\n",
            "Unsupported file format: Tomato___Tomato_mosaic_virus\n",
            "Tomato___Target_Spot\n",
            "Unsupported file format: Tomato___Target_Spot\n",
            "Potato___Late_blight\n",
            "Unsupported file format: Potato___Late_blight\n",
            "Orange___Haunglongbing_(Citrus_greening)\n",
            "Unsupported file format: Orange___Haunglongbing_(Citrus_greening)\n",
            "Blueberry___healthy\n",
            "Unsupported file format: Blueberry___healthy\n",
            "Tomato___Late_blight\n",
            "Unsupported file format: Tomato___Late_blight\n",
            "Peach___healthy\n",
            "Unsupported file format: Peach___healthy\n",
            "Potato___Early_blight\n",
            "Unsupported file format: Potato___Early_blight\n",
            "Corn_(maize)___healthy\n",
            "Unsupported file format: Corn_(maize)___healthy\n",
            "Grape___Leaf_blight_(Isariopsis_Leaf_Spot)\n",
            "Unsupported file format: Grape___Leaf_blight_(Isariopsis_Leaf_Spot)\n",
            "Corn_(maize)___Common_rust_\n",
            "Unsupported file format: Corn_(maize)___Common_rust_\n",
            "Grape___healthy\n",
            "Unsupported file format: Grape___healthy\n",
            "Cherry_(including_sour)___Powdery_mildew\n",
            "Unsupported file format: Cherry_(including_sour)___Powdery_mildew\n",
            "Tomato___Bacterial_spot\n",
            "Unsupported file format: Tomato___Bacterial_spot\n",
            "Tomato___Leaf_Mold\n",
            "Unsupported file format: Tomato___Leaf_Mold\n",
            "Grape___Esca_(Black_Measles)\n",
            "Unsupported file format: Grape___Esca_(Black_Measles)\n",
            "Tomato___Early_blight\n",
            "Unsupported file format: Tomato___Early_blight\n",
            "Raspberry___healthy\n",
            "Unsupported file format: Raspberry___healthy\n",
            "Apple___Cedar_apple_rust\n",
            "Unsupported file format: Apple___Cedar_apple_rust\n",
            "Corn_(maize)___Northern_Leaf_Blight\n",
            "Unsupported file format: Corn_(maize)___Northern_Leaf_Blight\n",
            "Cherry_(including_sour)___healthy\n",
            "Unsupported file format: Cherry_(including_sour)___healthy\n",
            "Pepper,_bell___Bacterial_spot\n",
            "Unsupported file format: Pepper,_bell___Bacterial_spot\n",
            "Tomato___healthy\n",
            "Unsupported file format: Tomato___healthy\n",
            "Apple___Apple_scab\n",
            "Unsupported file format: Apple___Apple_scab\n",
            "Squash___Powdery_mildew\n",
            "Unsupported file format: Squash___Powdery_mildew\n",
            "Tomato___Tomato_Yellow_Leaf_Curl_Virus\n",
            "Unsupported file format: Tomato___Tomato_Yellow_Leaf_Curl_Virus\n",
            "Peach___Bacterial_spot\n",
            "Unsupported file format: Peach___Bacterial_spot\n",
            "Tomato___Septoria_leaf_spot\n",
            "Unsupported file format: Tomato___Septoria_leaf_spot\n",
            "Tomato___Spider_mites Two-spotted_spider_mite\n",
            "Unsupported file format: Tomato___Spider_mites Two-spotted_spider_mite\n",
            "Potato___healthy\n",
            "Unsupported file format: Potato___healthy\n",
            "Apple___healthy\n",
            "Unsupported file format: Apple___healthy\n",
            "Apple___Black_rot\n",
            "Unsupported file format: Apple___Black_rot\n",
            "Soybean___healthy\n",
            "Unsupported file format: Soybean___healthy\n",
            "Corn_(maize)___Cercospora_leaf_spot Gray_leaf_spot\n",
            "Unsupported file format: Corn_(maize)___Cercospora_leaf_spot Gray_leaf_spot\n",
            "Strawberry___Leaf_scorch\n",
            "Unsupported file format: Strawberry___Leaf_scorch\n",
            "Found 0 files belonging to 38 classes.\n"
          ]
        },
        {
          "ename": "ValueError",
          "evalue": "No images found in directory /content/drive/MyDrive/Dataset/train. Allowed formats: ('.bmp', '.gif', '.jpeg', '.jpg', '.png')",
          "output_type": "error",
          "traceback": [
            "\u001b[0;31m---------------------------------------------------------------------------\u001b[0m",
            "\u001b[0;31mValueError\u001b[0m                                Traceback (most recent call last)",
            "\u001b[0;32m<ipython-input-71-d0371cfd531d>\u001b[0m in \u001b[0;36m<cell line: 0>\u001b[0;34m()\u001b[0m\n\u001b[1;32m     15\u001b[0m \u001b[0;31m# 2. Handle Subfolders (if present):\u001b[0m\u001b[0;34m\u001b[0m\u001b[0;34m\u001b[0m\u001b[0m\n\u001b[1;32m     16\u001b[0m \u001b[0;31m# If your images are in subfolders, use labels='inferred'\u001b[0m\u001b[0;34m\u001b[0m\u001b[0;34m\u001b[0m\u001b[0m\n\u001b[0;32m---> 17\u001b[0;31m training_set = tf.keras.utils.image_dataset_from_directory(\n\u001b[0m\u001b[1;32m     18\u001b[0m     \u001b[0;34m'/content/drive/MyDrive/Dataset/train'\u001b[0m\u001b[0;34m,\u001b[0m  \u001b[0;31m# Make sure this is the correct path\u001b[0m\u001b[0;34m\u001b[0m\u001b[0;34m\u001b[0m\u001b[0m\n\u001b[1;32m     19\u001b[0m     \u001b[0mlabels\u001b[0m\u001b[0;34m=\u001b[0m\u001b[0;34m'inferred'\u001b[0m\u001b[0;34m,\u001b[0m  \u001b[0;31m# Infer labels from subfolder names\u001b[0m\u001b[0;34m\u001b[0m\u001b[0;34m\u001b[0m\u001b[0m\n",
            "\u001b[0;32m/usr/local/lib/python3.11/dist-packages/keras/src/utils/image_dataset_utils.py\u001b[0m in \u001b[0;36mimage_dataset_from_directory\u001b[0;34m(directory, labels, label_mode, class_names, color_mode, batch_size, image_size, shuffle, seed, validation_split, subset, interpolation, follow_links, crop_to_aspect_ratio, pad_to_aspect_ratio, data_format, verbose)\u001b[0m\n\u001b[1;32m    319\u001b[0m         )\n\u001b[1;32m    320\u001b[0m         \u001b[0;32mif\u001b[0m \u001b[0;32mnot\u001b[0m \u001b[0mimage_paths\u001b[0m\u001b[0;34m:\u001b[0m\u001b[0;34m\u001b[0m\u001b[0;34m\u001b[0m\u001b[0m\n\u001b[0;32m--> 321\u001b[0;31m             raise ValueError(\n\u001b[0m\u001b[1;32m    322\u001b[0m                 \u001b[0;34mf\"No images found in directory {directory}. \"\u001b[0m\u001b[0;34m\u001b[0m\u001b[0;34m\u001b[0m\u001b[0m\n\u001b[1;32m    323\u001b[0m                 \u001b[0;34mf\"Allowed formats: {ALLOWLIST_FORMATS}\"\u001b[0m\u001b[0;34m\u001b[0m\u001b[0;34m\u001b[0m\u001b[0m\n",
            "\u001b[0;31mValueError\u001b[0m: No images found in directory /content/drive/MyDrive/Dataset/train. Allowed formats: ('.bmp', '.gif', '.jpeg', '.jpg', '.png')"
          ]
        }
      ],
      "source": [
        "import tensorflow as tf\n",
        "import matplotlib.pyplot as plt\n",
        "import pandas as pd\n",
        "import seaborn as sns\n",
        "import os\n",
        "\n",
        "# 1. Verify Directory Path and Image Formats:\n",
        "# Print the contents of the directory to check for images and their formats\n",
        "print(os.listdir('/content/drive/MyDrive/Dataset/train'))\n",
        "for filename in os.listdir('/content/drive/MyDrive/Dataset/train'):\n",
        "    print(filename)  # Print the full filename\n",
        "    if not filename.lower().endswith(('.bmp', '.gif', '.jpeg', '.jpg', '.png')):\n",
        "        print(f\"Unsupported file format: {filename}\")\n",
        "\n",
        "# 2. Handle Subfolders (if present):\n",
        "# If your images are in subfolders, use labels='inferred'\n",
        "training_set = tf.keras.utils.image_dataset_from_directory(\n",
        "    '/content/drive/MyDrive/Dataset/train',  # Make sure this is the correct path\n",
        "    labels='inferred',  # Infer labels from subfolder names\n",
        "    label_mode='int',\n",
        "    class_names=None,\n",
        "    color_mode=\"rgb\",\n",
        "    batch_size=32,\n",
        "    image_size=(128, 128),\n",
        "    shuffle=True, seed=None,\n",
        "    validation_split=None,\n",
        "    subset=None,\n",
        "    interpolation=\"bilinear\",\n",
        "    follow_links=False,\n",
        "    crop_to_aspect_ratio=False\n",
        ")\n",
        "\n",
        "# ... (rest of the code) ...\n",
        "\n",
        "# 3. Fit the model and store the training history\n",
        "training_history = cnn.fit(training_set, validation_data=validation_set, epochs=10)  # Assuming 10 epochs\n",
        "\n",
        "# ... (Your existing code for plotting and saving) ..."
      ]
    },
    {
      "cell_type": "code",
      "execution_count": null,
      "metadata": {
        "id": "zJljzVnYFxGl"
      },
      "outputs": [],
      "source": [
        "class_name = validation_set.class_names"
      ]
    },
    {
      "cell_type": "code",
      "execution_count": null,
      "metadata": {
        "colab": {
          "base_uri": "https://localhost:8080/"
        },
        "id": "vkfCRP6AF-gI",
        "outputId": "516efa3d-5c71-4358-942a-6a76be893bb1"
      },
      "outputs": [
        {
          "name": "stdout",
          "output_type": "stream",
          "text": [
            "Found 994 files belonging to 38 classes.\n"
          ]
        }
      ],
      "source": [
        "test_set = tf.keras.utils. image_dataset_from_directory(\n",
        "  '/content/drive/MyDrive/Dataset/valid',\n",
        "  labels=\"inferred\",\n",
        "  label_mode=\"categorical\",\n",
        "  class_names=None,\n",
        "  color_mode=\"rgb\",\n",
        "  batch_size=1,\n",
        "  image_size=(128, 128),\n",
        "  shuffle=False,\n",
        "  seed=None,\n",
        "  validation_split=None,\n",
        "  subset=None,\n",
        "  interpolation=\"bilinear\",\n",
        "  follow_links=False,\n",
        "  crop_to_aspect_ratio=False\n",
        ")"
      ]
    },
    {
      "cell_type": "code",
      "execution_count": null,
      "metadata": {
        "colab": {
          "base_uri": "https://localhost:8080/"
        },
        "id": "3JCaIb3OGvRv",
        "outputId": "00ab5e02-f0f9-472f-ff36-f3290e818697"
      },
      "outputs": [
        {
          "name": "stdout",
          "output_type": "stream",
          "text": [
            "\u001b[1m994/994\u001b[0m \u001b[32m━━━━━━━━━━━━━━━━━━━━\u001b[0m\u001b[37m\u001b[0m \u001b[1m894s\u001b[0m 899ms/step\n"
          ]
        }
      ],
      "source": [
        "_pred = cnn. predict (test_set)\n",
        "predicted_categories = tf.argmax (y_pred, axis=1)"
      ]
    },
    {
      "cell_type": "code",
      "execution_count": null,
      "metadata": {
        "id": "jYdl6GyBG8dv"
      },
      "outputs": [],
      "source": [
        "true_categories = tf. concat([y for x, y in test_set], axis=0)\n",
        "Y_true = tf. argmax(true_categories, axis=1)"
      ]
    },
    {
      "cell_type": "code",
      "execution_count": null,
      "metadata": {
        "id": "uQesps_ZHU4x"
      },
      "outputs": [],
      "source": [
        "Y_true"
      ]
    },
    {
      "cell_type": "code",
      "execution_count": null,
      "metadata": {
        "id": "REhVAG-_HXHw"
      },
      "outputs": [],
      "source": [
        "predicted_categories"
      ]
    },
    {
      "cell_type": "code",
      "execution_count": null,
      "metadata": {
        "id": "nPsM2vYOHe6L"
      },
      "outputs": [],
      "source": [
        "from sklearn.metrics import confusion_matrix,classification_report\n",
        "cm = confusion_matrix(Y_true, predicted_categories)"
      ]
    },
    {
      "cell_type": "code",
      "execution_count": null,
      "metadata": {
        "id": "jSiU8MEyHuZm"
      },
      "outputs": [],
      "source": [
        "print(classification_report(Y_true,predicted_categories, target_names=class_name))"
      ]
    },
    {
      "cell_type": "code",
      "execution_count": null,
      "metadata": {
        "id": "eEkNz8bAH2QL"
      },
      "outputs": [],
      "source": [
        "plt.figure(figsize=(40, 40))\n",
        "sns heatmap(cm, annot=True, annot_kws={\"size\": 10}, cmap='tab10')\n",
        "plt. xlabel( 'Predicted Class', fontsize = 30)\n",
        "plt. ylabel( 'Actual Class', fontsize = 40)\n",
        "plt. title( 'Plant Disease Prediction Confusion Matrix', fontsize = 25)\n",
        "plt. show()\n"
      ]
    },
    {
      "cell_type": "code",
      "execution_count": null,
      "metadata": {
        "id": "A9E5qBlHIT6Y"
      },
      "outputs": [],
      "source": []
    }
  ],
  "metadata": {
    "colab": {
      "provenance": []
    },
    "kernelspec": {
      "display_name": "Python 3",
      "name": "python3"
    },
    "language_info": {
      "name": "python"
    }
  },
  "nbformat": 4,
  "nbformat_minor": 0
}